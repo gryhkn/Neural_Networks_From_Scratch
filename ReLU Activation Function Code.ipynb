{
 "cells": [
  {
   "cell_type": "code",
   "execution_count": 1,
   "id": "6a9e0825",
   "metadata": {},
   "outputs": [
    {
     "name": "stdout",
     "output_type": "stream",
     "text": [
      "[0, 2, 0, 3.3, 0, 1.1, 2.2, 0]\n"
     ]
    }
   ],
   "source": [
    "inputs = [ 0, 2, -1, 3.3, -2.7, 1.1, 2.2, -100]\n",
    "\n",
    "output = []\n",
    "for i in inputs:\n",
    "    if i > 0:\n",
    "        output.append(i)\n",
    "    else:\n",
    "        output.append(0)\n",
    "\n",
    "print(output)"
   ]
  },
  {
   "cell_type": "markdown",
   "id": "e3691c80",
   "metadata": {},
   "source": [
    "* The above code shows us how ReLU function works. Of cource we can write this code more simply:"
   ]
  },
  {
   "cell_type": "code",
   "execution_count": 3,
   "id": "8d4b7899",
   "metadata": {},
   "outputs": [
    {
     "name": "stdout",
     "output_type": "stream",
     "text": [
      "[0, 2, 0, 3.3, 0, 1.1, 2.2, 0]\n"
     ]
    }
   ],
   "source": [
    "inputs = [ 0, 2, -1, 3.3, -2.7, 1.1, 2.2, -100]\n",
    "\n",
    "output = []\n",
    "for i in inputs:\n",
    "    output.append(max(0, i))\n",
    "\n",
    "print(output)"
   ]
  },
  {
   "cell_type": "markdown",
   "id": "7620995c",
   "metadata": {},
   "source": [
    "* But this is code also not sortest code. We can use Numpy as well."
   ]
  },
  {
   "cell_type": "code",
   "execution_count": 4,
   "id": "f3f12241",
   "metadata": {},
   "outputs": [
    {
     "name": "stdout",
     "output_type": "stream",
     "text": [
      "[0.  2.  0.  3.3 0.  1.1 2.2 0. ]\n"
     ]
    }
   ],
   "source": [
    "import numpy as np\n",
    "\n",
    "inputs = [ 0, 2, -1, 3.3, -2.7, 1.1, 2.2, -100]\n",
    "output = np.maximum(0, inputs)\n",
    "\n",
    "print(output)"
   ]
  },
  {
   "cell_type": "markdown",
   "id": "e3337ac3",
   "metadata": {},
   "source": [
    "* This method compares each element of the input list (or an array) and returns an object of the same shape filled with new values."
   ]
  },
  {
   "cell_type": "markdown",
   "id": "8c7717ae",
   "metadata": {},
   "source": [
    "---"
   ]
  },
  {
   "cell_type": "markdown",
   "id": "78613302",
   "metadata": {},
   "source": [
    "## Define ReLU Class"
   ]
  },
  {
   "cell_type": "code",
   "execution_count": 5,
   "id": "80e5cbb4",
   "metadata": {},
   "outputs": [],
   "source": [
    "class Activation_ReLU:\n",
    "    \n",
    "    # Forward pass\n",
    "    def forward(self, inputs):\n",
    "        #calculate output values from input\n",
    "        self.output = np.maximum(0, inputs)"
   ]
  },
  {
   "cell_type": "markdown",
   "id": "f654006a",
   "metadata": {},
   "source": [
    "## Define Dense Layer"
   ]
  },
  {
   "cell_type": "code",
   "execution_count": 7,
   "id": "05267b26",
   "metadata": {},
   "outputs": [],
   "source": [
    "class Layer_Dense:\n",
    "    \n",
    "    def __init__(self, n_inputs, n_neurons):\n",
    "        self.weights = 0.01 * np.random.randn(n_inputs, n_neurons)\n",
    "        self.biases = np.zeros((1, n_neurons))\n",
    "        \n",
    "    def forward(self, inputs):\n",
    "        self.output = np.dot(inputs, self.weights) + self.biases "
   ]
  },
  {
   "cell_type": "markdown",
   "id": "bc983cc1",
   "metadata": {},
   "source": [
    "#### Let's apply this activation function to the dense layer's outputs in our code:"
   ]
  },
  {
   "cell_type": "code",
   "execution_count": 9,
   "id": "6ffafdea",
   "metadata": {},
   "outputs": [
    {
     "name": "stdout",
     "output_type": "stream",
     "text": [
      "[[0.         0.         0.        ]\n",
      " [0.         0.00011395 0.        ]\n",
      " [0.         0.00031729 0.        ]\n",
      " [0.         0.00052666 0.        ]\n",
      " [0.         0.00071401 0.        ]]\n"
     ]
    }
   ],
   "source": [
    "# Create dataset\n",
    "import numpy as np\n",
    "import matplotlib.pyplot as plt\n",
    "import nnfs\n",
    "\n",
    "from nnfs.datasets import spiral_data\n",
    "\n",
    "##########################################\n",
    "# YOU CAN FIND MORE INFORMATION ABOUT THIS DATA FROM\n",
    "# --> Training Data for Dense Layer Notebook.\n",
    "##########################################\n",
    "\n",
    "\n",
    "nnfs.init()\n",
    "# The nnfs.init() does three things: \n",
    "# it sets the random seed to 0 (by the default),\n",
    "# creates afloat32 dtype default, and overrides \n",
    "# the original dot product from NumPy. \n",
    "# All of these are meant to ensure repeatable results \n",
    "# for following along.\n",
    "\n",
    "\n",
    "X, y = spiral_data(samples=100, classes=3)\n",
    "# The spiral_data function allows us to create a dataset\n",
    "# with as many classes as we want. The function has parameters\n",
    "# to choose the number of classes and the number of \n",
    "# points/observationsper class in the resulting non-linear dataset.\n",
    "\n",
    "\n",
    "# Create Dense layer with 2 input features and 3 output values\n",
    "dense1 = Layer_Dense(2, 3)\n",
    "\n",
    "# Make a forward pass of our training data through this layer\n",
    "dense1.forward(X)\n",
    "\n",
    "# Create ReLU activation (to be used with Dense Layer)\n",
    "activation1 = Activation_ReLU()\n",
    "\n",
    "# Forward pass through activation function\n",
    "# Takes in output from previous layer\n",
    "activation1.forward(dense1.output)\n",
    "\n",
    "# Let's see output of the first few samples:\n",
    "print(activation1.output[:5])\n"
   ]
  },
  {
   "cell_type": "markdown",
   "id": "a5edd01d",
   "metadata": {},
   "source": [
    "As you can see, negative values have been **clipped** (modified to be zero)."
   ]
  },
  {
   "cell_type": "markdown",
   "id": "f09596cd",
   "metadata": {},
   "source": [
    "* That’s all there is to the rectified linear activation function used in the hidden layer."
   ]
  }
 ],
 "metadata": {
  "kernelspec": {
   "display_name": "env_system",
   "language": "python",
   "name": "env_system"
  },
  "language_info": {
   "codemirror_mode": {
    "name": "ipython",
    "version": 3
   },
   "file_extension": ".py",
   "mimetype": "text/x-python",
   "name": "python",
   "nbconvert_exporter": "python",
   "pygments_lexer": "ipython3",
   "version": "3.8.5"
  }
 },
 "nbformat": 4,
 "nbformat_minor": 5
}
